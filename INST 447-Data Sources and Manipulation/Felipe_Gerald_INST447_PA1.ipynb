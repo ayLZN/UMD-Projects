{
 "metadata": {
  "language_info": {
   "codemirror_mode": {
    "name": "ipython",
    "version": 3
   },
   "file_extension": ".py",
   "mimetype": "text/x-python",
   "name": "python",
   "nbconvert_exporter": "python",
   "pygments_lexer": "ipython3",
   "version": "3.9.5"
  },
  "orig_nbformat": 2,
  "kernelspec": {
   "name": "python3",
   "display_name": "Python 3.9.5 64-bit"
  },
  "metadata": {
   "interpreter": {
    "hash": "63fd5069d213b44bf678585dea6b12cceca9941eaf7f819626cde1f2670de90d"
   }
  },
  "interpreter": {
   "hash": "63fd5069d213b44bf678585dea6b12cceca9941eaf7f819626cde1f2670de90d"
  }
 },
 "nbformat": 4,
 "nbformat_minor": 2,
 "cells": [
  {
   "source": [
    "Gerald Felipe, INST 447, Programming Assignment 1\n"
   ],
   "cell_type": "markdown",
   "metadata": {}
  },
  {
   "source": [
    "Imports"
   ],
   "cell_type": "markdown",
   "metadata": {}
  },
  {
   "cell_type": "code",
   "execution_count": 1,
   "metadata": {},
   "outputs": [],
   "source": [
    "import pandas as pd\n",
    "import numpy as np"
   ]
  },
  {
   "source": [
    "Reading the files."
   ],
   "cell_type": "markdown",
   "metadata": {}
  },
  {
   "cell_type": "code",
   "execution_count": 2,
   "metadata": {},
   "outputs": [],
   "source": [
    "df1 = pd.read_csv(\"2011_Performance_Benchmarking.csv\")\n",
    "df2 = pd.read_csv(\"2012_Performance_Benchmarking.csv\")\n"
   ]
  },
  {
   "source": [
    "Cleaning"
   ],
   "cell_type": "markdown",
   "metadata": {}
  },
  {
   "cell_type": "code",
   "execution_count": 3,
   "metadata": {},
   "outputs": [],
   "source": [
    "df1.columns = df1.columns.str.replace(' ', '')\n",
    "df2.columns = df2.columns.str.replace(' ', '')"
   ]
  },
  {
   "source": [
    "1. (PART 1) Concatenate the two data-frames (0.5 point)"
   ],
   "cell_type": "markdown",
   "metadata": {}
  },
  {
   "cell_type": "code",
   "execution_count": 4,
   "metadata": {},
   "outputs": [],
   "source": [
    "concat_df = pd.concat([df1, df2], axis=0, ignore_index=True)"
   ]
  },
  {
   "source": [
    "1. (PART 2) Report the total number of rows and columns (0.5 Points)"
   ],
   "cell_type": "markdown",
   "metadata": {}
  },
  {
   "cell_type": "code",
   "execution_count": 5,
   "metadata": {},
   "outputs": [
    {
     "output_type": "execute_result",
     "data": {
      "text/plain": [
       "(796, 17)"
      ]
     },
     "metadata": {},
     "execution_count": 5
    }
   ],
   "source": [
    "concat_df.shape"
   ]
  },
  {
   "source": [
    "2. Convert the reported gross floor area to numeric (3 points)"
   ],
   "cell_type": "markdown",
   "metadata": {}
  },
  {
   "cell_type": "code",
   "execution_count": 6,
   "metadata": {},
   "outputs": [],
   "source": [
    "#concat_df.info()\n",
    "concat_df['_Reported_Building_Gross_Floor_Area_ft_'] = concat_df['_Reported_Building_Gross_Floor_Area_ft_'].str.replace(',', '').apply(pd.to_numeric)"
   ]
  },
  {
   "source": [
    "3. (CODE) Report the following summary statistics(mean, min, max, std, and quantiles) for the reported gross floor area based on the primary property type in a table and round the values to 2 decimal places using the round( ) function before printing the table."
   ],
   "cell_type": "markdown",
   "metadata": {}
  },
  {
   "cell_type": "code",
   "execution_count": 7,
   "metadata": {},
   "outputs": [
    {
     "output_type": "execute_result",
     "data": {
      "text/plain": [
       "                       count       mean        std       min        25%  \\\n",
       "Primary_Property_Type                                                     \n",
       "College/University      42.0  686313.98  958926.88  150176.0  211231.25   \n",
       "Hotel                   45.0  481041.96  339280.91  159857.0  260566.00   \n",
       "Multifamily Housing    183.0  340482.32  194628.49  154532.0  218574.50   \n",
       "Office                 526.0  363385.55  235961.32  150161.0  221724.25   \n",
       "\n",
       "                            50%        75%        max  \n",
       "Primary_Property_Type                                  \n",
       "College/University     290321.0  420653.00  3543436.0  \n",
       "Hotel                  306123.0  643725.00  1600000.0  \n",
       "Multifamily Housing    267750.0  387450.00   988819.0  \n",
       "Office                 303706.5  417319.75  2000000.0  "
      ],
      "text/html": "<div>\n<style scoped>\n    .dataframe tbody tr th:only-of-type {\n        vertical-align: middle;\n    }\n\n    .dataframe tbody tr th {\n        vertical-align: top;\n    }\n\n    .dataframe thead th {\n        text-align: right;\n    }\n</style>\n<table border=\"1\" class=\"dataframe\">\n  <thead>\n    <tr style=\"text-align: right;\">\n      <th></th>\n      <th>count</th>\n      <th>mean</th>\n      <th>std</th>\n      <th>min</th>\n      <th>25%</th>\n      <th>50%</th>\n      <th>75%</th>\n      <th>max</th>\n    </tr>\n    <tr>\n      <th>Primary_Property_Type</th>\n      <th></th>\n      <th></th>\n      <th></th>\n      <th></th>\n      <th></th>\n      <th></th>\n      <th></th>\n      <th></th>\n    </tr>\n  </thead>\n  <tbody>\n    <tr>\n      <th>College/University</th>\n      <td>42.0</td>\n      <td>686313.98</td>\n      <td>958926.88</td>\n      <td>150176.0</td>\n      <td>211231.25</td>\n      <td>290321.0</td>\n      <td>420653.00</td>\n      <td>3543436.0</td>\n    </tr>\n    <tr>\n      <th>Hotel</th>\n      <td>45.0</td>\n      <td>481041.96</td>\n      <td>339280.91</td>\n      <td>159857.0</td>\n      <td>260566.00</td>\n      <td>306123.0</td>\n      <td>643725.00</td>\n      <td>1600000.0</td>\n    </tr>\n    <tr>\n      <th>Multifamily Housing</th>\n      <td>183.0</td>\n      <td>340482.32</td>\n      <td>194628.49</td>\n      <td>154532.0</td>\n      <td>218574.50</td>\n      <td>267750.0</td>\n      <td>387450.00</td>\n      <td>988819.0</td>\n    </tr>\n    <tr>\n      <th>Office</th>\n      <td>526.0</td>\n      <td>363385.55</td>\n      <td>235961.32</td>\n      <td>150161.0</td>\n      <td>221724.25</td>\n      <td>303706.5</td>\n      <td>417319.75</td>\n      <td>2000000.0</td>\n    </tr>\n  </tbody>\n</table>\n</div>"
     },
     "metadata": {},
     "execution_count": 7
    }
   ],
   "source": [
    "concat_df['_Reported_Building_Gross_Floor_Area_ft_'].groupby(concat_df['Primary_Property_Type']).describe().round(2)"
   ]
  },
  {
   "source": [
    "3. (QUESTION) Talk about any interesting patterns/biases that you see from this table "
   ],
   "cell_type": "markdown",
   "metadata": {}
  },
  {
   "source": [
    "One interesting thing that I see from this table is that even though office has the highest count, it doesn't have the highest max or mean. I think a bias in this data set is that the spread of the data for each property type is far, to get more acccurate data the count for each property type could be close."
   ],
   "cell_type": "markdown",
   "metadata": {}
  },
  {
   "source": [
    "4. (CODE) Create a pivot table that summarizes the average (mean) total greenhouse gas emissions (GHG) for 2011 and 2012 based on the primary property type. (3 points) "
   ],
   "cell_type": "markdown",
   "metadata": {}
  },
  {
   "cell_type": "code",
   "execution_count": 8,
   "metadata": {},
   "outputs": [
    {
     "output_type": "stream",
     "name": "stdout",
     "text": [
      "                            Total_GHG_Emissions_MtCO2e\nPrimary_Property_Type Year                            \nCollege/University    2011                 8743.610588\n                      2012                 6100.068800\nHotel                 2011                 4866.587000\n                      2012                 4510.186800\nMultifamily Housing   2011                 1412.858000\n                      2012                 1188.852920\nOffice                2011                 3158.135695\n                      2012                 3479.469505\n"
     ]
    }
   ],
   "source": [
    "pivot_table1 = pd.pivot_table(concat_df, values=['Total_GHG_Emissions_MtCO2e'], index=['Primary_Property_Type', 'Year'],\n",
    "                       aggfunc={'Total_GHG_Emissions_MtCO2e': np.mean})\n",
    "\n",
    "print(pivot_table1)"
   ]
  },
  {
   "source": [
    "4. (QUESTION 1) From the table created above, which property type has the highest and lowest average GHG emissions across both the years?  (1 point)"
   ],
   "cell_type": "markdown",
   "metadata": {}
  },
  {
   "source": [
    "From the table created above, we can see that the multifamily housing property type has both the highest and lowest average GHG emissions across both years in 2011 and 2012."
   ],
   "cell_type": "markdown",
   "metadata": {}
  },
  {
   "source": [
    "4. (QUESTION 2) Do you see a reduction in GHG emissions between the two years on average as a result of this program from the DOEE? (1 point)"
   ],
   "cell_type": "markdown",
   "metadata": {}
  },
  {
   "source": [
    "Judging by the table we can see that three of the four property types are seeing a reduction in GHG emissions on average as a result of this program from the DOEE."
   ],
   "cell_type": "markdown",
   "metadata": {}
  },
  {
   "source": [
    "5. Create a new variable called 'Property_Age' with three categories based on the property's year of construction (Note: do not convert year built to datetime, use the variable as it is). The Three categories that you must create and their binning constraints are as follows :\n",
    "Ancient: Property built between 1864 - 1965\n",
    "Old: Property built between 1965 - 1996\n",
    "Relatively new: Property built between 1996 – 2011\n",
    "        (3 points)"
   ],
   "cell_type": "markdown",
   "metadata": {}
  },
  {
   "cell_type": "code",
   "execution_count": 9,
   "metadata": {},
   "outputs": [
    {
     "output_type": "execute_result",
     "data": {
      "text/plain": [
       "  DC_Real_Property_ID         Address_of_Record  \\\n",
       "0               80806       2500 VIRGINIA AV NW   \n",
       "1               80808       2600 VIRGINIA AV NW   \n",
       "2               80811  0600 NEW HAMPSHIRE AV NW   \n",
       "3              140068              2550 M ST NW   \n",
       "4              240112           1250 24TH ST NW   \n",
       "\n",
       "                      Owner_of_Record  Ward  Year  \\\n",
       "0                  WATERGATE EAST INC     2  2011   \n",
       "1  GREENPENZ 2600 VIRGINIA AVENUE LLC     2  2011   \n",
       "2            WATERGATE HOLDINGS I LLC     2  2011   \n",
       "3      CARR CRHP DC/VA PROPERTIES LLC     2  2011   \n",
       "4             WORLD WILDLIFE FUND INC     2  2011   \n",
       "\n",
       "                              Property_Name                   Address_1  \\\n",
       "0                      Watergate East, Inc.  2500 Virginia Avenue, N.W.   \n",
       "1                        Watergate Building        2600 Virginia Avenue   \n",
       "2  0600 New Hampshire Avenue NW (Watergate)    600 New Hampshire Ave NW   \n",
       "3                Westbridge Office Building            2550 M Street NW   \n",
       "4                                       WWF        1250 24th Street, NW   \n",
       "\n",
       "   Postal_Code Primary_Property_Type  Year_Built  \\\n",
       "0        20037   Multifamily Housing      1966.0   \n",
       "1        20037                Office      1963.0   \n",
       "2        20037                Office      1972.0   \n",
       "3        20037                Office      1978.0   \n",
       "4        20037                Office      1985.0   \n",
       "\n",
       "   _Reported_Building_Gross_Floor_Area_ft_ Site_EUI_kBtu/ft  \\\n",
       "0                                   400000             28.2   \n",
       "1                                   217716              0.0   \n",
       "2                                   266215              0.0   \n",
       "3                                   208325             67.1   \n",
       "4                                   331053             68.1   \n",
       "\n",
       "  Weather_Normalized_Source_EUI_kBtu/ft  ENERGY_STAR_Score  \\\n",
       "0                                  94.0                0.0   \n",
       "1                                   NaN                0.0   \n",
       "2                                   NaN                0.0   \n",
       "3                                 226.4               81.0   \n",
       "4                                 213.7               82.0   \n",
       "\n",
       "   Total_GHG_Emissions_MtCO2e  Electricity_Use_-_Grid_Purchase_and_Onsite_kWh  \\\n",
       "0                     1594.09                                       3295396.0   \n",
       "1                        0.00                                             NaN   \n",
       "2                        0.00                                             NaN   \n",
       "3                     1980.52                                       4099016.5   \n",
       "4                     2222.60                                       5143987.0   \n",
       "\n",
       "   Natural_Gas_Use_therms Property_Age  \n",
       "0                     NaN          Old  \n",
       "1                     NaN      Ancient  \n",
       "2                     NaN          Old  \n",
       "3                     NaN          Old  \n",
       "4                     NaN          Old  "
      ],
      "text/html": "<div>\n<style scoped>\n    .dataframe tbody tr th:only-of-type {\n        vertical-align: middle;\n    }\n\n    .dataframe tbody tr th {\n        vertical-align: top;\n    }\n\n    .dataframe thead th {\n        text-align: right;\n    }\n</style>\n<table border=\"1\" class=\"dataframe\">\n  <thead>\n    <tr style=\"text-align: right;\">\n      <th></th>\n      <th>DC_Real_Property_ID</th>\n      <th>Address_of_Record</th>\n      <th>Owner_of_Record</th>\n      <th>Ward</th>\n      <th>Year</th>\n      <th>Property_Name</th>\n      <th>Address_1</th>\n      <th>Postal_Code</th>\n      <th>Primary_Property_Type</th>\n      <th>Year_Built</th>\n      <th>_Reported_Building_Gross_Floor_Area_ft_</th>\n      <th>Site_EUI_kBtu/ft</th>\n      <th>Weather_Normalized_Source_EUI_kBtu/ft</th>\n      <th>ENERGY_STAR_Score</th>\n      <th>Total_GHG_Emissions_MtCO2e</th>\n      <th>Electricity_Use_-_Grid_Purchase_and_Onsite_kWh</th>\n      <th>Natural_Gas_Use_therms</th>\n      <th>Property_Age</th>\n    </tr>\n  </thead>\n  <tbody>\n    <tr>\n      <th>0</th>\n      <td>80806</td>\n      <td>2500 VIRGINIA AV NW</td>\n      <td>WATERGATE EAST INC</td>\n      <td>2</td>\n      <td>2011</td>\n      <td>Watergate East, Inc.</td>\n      <td>2500 Virginia Avenue, N.W.</td>\n      <td>20037</td>\n      <td>Multifamily Housing</td>\n      <td>1966.0</td>\n      <td>400000</td>\n      <td>28.2</td>\n      <td>94.0</td>\n      <td>0.0</td>\n      <td>1594.09</td>\n      <td>3295396.0</td>\n      <td>NaN</td>\n      <td>Old</td>\n    </tr>\n    <tr>\n      <th>1</th>\n      <td>80808</td>\n      <td>2600 VIRGINIA AV NW</td>\n      <td>GREENPENZ 2600 VIRGINIA AVENUE LLC</td>\n      <td>2</td>\n      <td>2011</td>\n      <td>Watergate Building</td>\n      <td>2600 Virginia Avenue</td>\n      <td>20037</td>\n      <td>Office</td>\n      <td>1963.0</td>\n      <td>217716</td>\n      <td>0.0</td>\n      <td>NaN</td>\n      <td>0.0</td>\n      <td>0.00</td>\n      <td>NaN</td>\n      <td>NaN</td>\n      <td>Ancient</td>\n    </tr>\n    <tr>\n      <th>2</th>\n      <td>80811</td>\n      <td>0600 NEW HAMPSHIRE AV NW</td>\n      <td>WATERGATE HOLDINGS I LLC</td>\n      <td>2</td>\n      <td>2011</td>\n      <td>0600 New Hampshire Avenue NW (Watergate)</td>\n      <td>600 New Hampshire Ave NW</td>\n      <td>20037</td>\n      <td>Office</td>\n      <td>1972.0</td>\n      <td>266215</td>\n      <td>0.0</td>\n      <td>NaN</td>\n      <td>0.0</td>\n      <td>0.00</td>\n      <td>NaN</td>\n      <td>NaN</td>\n      <td>Old</td>\n    </tr>\n    <tr>\n      <th>3</th>\n      <td>140068</td>\n      <td>2550 M ST NW</td>\n      <td>CARR CRHP DC/VA PROPERTIES LLC</td>\n      <td>2</td>\n      <td>2011</td>\n      <td>Westbridge Office Building</td>\n      <td>2550 M Street NW</td>\n      <td>20037</td>\n      <td>Office</td>\n      <td>1978.0</td>\n      <td>208325</td>\n      <td>67.1</td>\n      <td>226.4</td>\n      <td>81.0</td>\n      <td>1980.52</td>\n      <td>4099016.5</td>\n      <td>NaN</td>\n      <td>Old</td>\n    </tr>\n    <tr>\n      <th>4</th>\n      <td>240112</td>\n      <td>1250 24TH ST NW</td>\n      <td>WORLD WILDLIFE FUND INC</td>\n      <td>2</td>\n      <td>2011</td>\n      <td>WWF</td>\n      <td>1250 24th Street, NW</td>\n      <td>20037</td>\n      <td>Office</td>\n      <td>1985.0</td>\n      <td>331053</td>\n      <td>68.1</td>\n      <td>213.7</td>\n      <td>82.0</td>\n      <td>2222.60</td>\n      <td>5143987.0</td>\n      <td>NaN</td>\n      <td>Old</td>\n    </tr>\n  </tbody>\n</table>\n</div>"
     },
     "metadata": {},
     "execution_count": 9
    }
   ],
   "source": [
    "concat_df['Property_Age']=pd.cut(concat_df['Year_Built'], bins=[1864,1965,1996,2011],labels=['Ancient','Old','new'])\n",
    "concat_df.head()"
   ]
  },
  {
   "source": [
    "6. Report the number of properties under each of the three categories of property ages that you created to answer the previous question (1 point)"
   ],
   "cell_type": "markdown",
   "metadata": {}
  },
  {
   "cell_type": "code",
   "execution_count": 10,
   "metadata": {},
   "outputs": [
    {
     "output_type": "execute_result",
     "data": {
      "text/plain": [
       "Old        397\n",
       "Ancient    199\n",
       "new        197\n",
       "Name: Property_Age, dtype: int64"
      ]
     },
     "metadata": {},
     "execution_count": 10
    }
   ],
   "source": [
    "concat_df['Property_Age'].value_counts()"
   ]
  },
  {
   "source": [
    "7. Create a new dataset that contains information for wards 2 and 3 and report the average energy star score for each of the property types (3 points)"
   ],
   "cell_type": "markdown",
   "metadata": {}
  },
  {
   "cell_type": "code",
   "execution_count": 12,
   "metadata": {},
   "outputs": [
    {
     "output_type": "stream",
     "name": "stdout",
     "text": [
      "                            ENERGY_STAR_Score\nPrimary_Property_Type Ward                   \nCollege/University    2             33.636364\n                      3             38.200000\nHotel                 2             39.571429\n                      3             32.250000\nMultifamily Housing   2              0.000000\n                      3              0.000000\nOffice                2             60.453333\n                      3             53.187500\n"
     ]
    }
   ],
   "source": [
    "dataset = concat_df[(concat_df['Ward']==2) | (concat_df['Ward']==3)]\n",
    "\n",
    "pivot_table2 = pd.pivot_table(dataset, values=['ENERGY_STAR_Score'], index=['Primary_Property_Type', 'Ward'],\n",
    "                       aggfunc={'ENERGY_STAR_Score': np.mean})\n",
    "\n",
    "print(pivot_table2)"
   ]
  },
  {
   "cell_type": "code",
   "execution_count": null,
   "metadata": {},
   "outputs": [],
   "source": []
  }
 ]
}